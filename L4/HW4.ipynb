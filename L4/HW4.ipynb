{
 "cells": [
  {
   "cell_type": "markdown",
   "id": "ca70a6be",
   "metadata": {},
   "source": [
    "## Урок 4. Домашнее задание"
   ]
  },
  {
   "cell_type": "markdown",
   "id": "56272483",
   "metadata": {},
   "source": [
    "1. Перенесите метрики в модуль metrics.py (убедится что они там)\n",
    "2. Перенесите функцию prefilter_items в модуль utils.py\n",
    "3. Создайте модуль recommenders.py. Напищите код для класса ниже \n",
    "(задание обсуждали на вебинаре, для первой функции практически сделали) и положите его в recommenders.py\n",
    "4. Проверьте, что все модули корректно импортируются"
   ]
  },
  {
   "cell_type": "code",
   "execution_count": 1,
   "id": "ffae72b4",
   "metadata": {},
   "outputs": [],
   "source": [
    "import pandas as pd\n",
    "import numpy as np\n",
    "import matplotlib.pyplot as plt\n",
    "\n",
    "%matplotlib inline\n",
    "\n",
    "from scipy.sparse import csr_matrix\n",
    "\n",
    "from implicit.als import AlternatingLeastSquares\n",
    "from implicit.nearest_neighbours import ItemItemRecommender\n",
    "from implicit.nearest_neighbours import bm25_weight, tfidf_weight\n",
    "    \n",
    "from src.metrics import precision_at_k, recall_at_k\n",
    "from src.recommenders import MainRecommender"
   ]
  },
  {
   "cell_type": "code",
   "execution_count": 2,
   "id": "68325f40",
   "metadata": {},
   "outputs": [
    {
     "data": {
      "text/html": [
       "<div>\n",
       "<style scoped>\n",
       "    .dataframe tbody tr th:only-of-type {\n",
       "        vertical-align: middle;\n",
       "    }\n",
       "\n",
       "    .dataframe tbody tr th {\n",
       "        vertical-align: top;\n",
       "    }\n",
       "\n",
       "    .dataframe thead th {\n",
       "        text-align: right;\n",
       "    }\n",
       "</style>\n",
       "<table border=\"1\" class=\"dataframe\">\n",
       "  <thead>\n",
       "    <tr style=\"text-align: right;\">\n",
       "      <th></th>\n",
       "      <th>user_id</th>\n",
       "      <th>basket_id</th>\n",
       "      <th>day</th>\n",
       "      <th>item_id</th>\n",
       "      <th>quantity</th>\n",
       "      <th>sales_value</th>\n",
       "      <th>store_id</th>\n",
       "      <th>retail_disc</th>\n",
       "      <th>trans_time</th>\n",
       "      <th>week_no</th>\n",
       "      <th>coupon_disc</th>\n",
       "      <th>coupon_match_disc</th>\n",
       "    </tr>\n",
       "  </thead>\n",
       "  <tbody>\n",
       "    <tr>\n",
       "      <th>0</th>\n",
       "      <td>2375</td>\n",
       "      <td>26984851472</td>\n",
       "      <td>1</td>\n",
       "      <td>1004906</td>\n",
       "      <td>1</td>\n",
       "      <td>1.39</td>\n",
       "      <td>364</td>\n",
       "      <td>-0.6</td>\n",
       "      <td>1631</td>\n",
       "      <td>1</td>\n",
       "      <td>0.0</td>\n",
       "      <td>0.0</td>\n",
       "    </tr>\n",
       "    <tr>\n",
       "      <th>1</th>\n",
       "      <td>2375</td>\n",
       "      <td>26984851472</td>\n",
       "      <td>1</td>\n",
       "      <td>1033142</td>\n",
       "      <td>1</td>\n",
       "      <td>0.82</td>\n",
       "      <td>364</td>\n",
       "      <td>0.0</td>\n",
       "      <td>1631</td>\n",
       "      <td>1</td>\n",
       "      <td>0.0</td>\n",
       "      <td>0.0</td>\n",
       "    </tr>\n",
       "  </tbody>\n",
       "</table>\n",
       "</div>"
      ],
      "text/plain": [
       "   user_id    basket_id  day  item_id  quantity  sales_value  store_id  \\\n",
       "0     2375  26984851472    1  1004906         1         1.39       364   \n",
       "1     2375  26984851472    1  1033142         1         0.82       364   \n",
       "\n",
       "   retail_disc  trans_time  week_no  coupon_disc  coupon_match_disc  \n",
       "0         -0.6        1631        1          0.0                0.0  \n",
       "1          0.0        1631        1          0.0                0.0  "
      ]
     },
     "execution_count": 2,
     "metadata": {},
     "output_type": "execute_result"
    }
   ],
   "source": [
    "data = pd.read_csv('webinar_4/data/transaction_data.csv')\n",
    "\n",
    "data.columns = [col.lower() for col in data.columns]\n",
    "data.rename(columns={'household_key': 'user_id',\n",
    "                    'product_id': 'item_id'},\n",
    "           inplace=True)\n",
    "\n",
    "\n",
    "test_size_weeks = 3\n",
    "\n",
    "data_train = data[data['week_no'] < data['week_no'].max() - test_size_weeks]\n",
    "data_test = data[data['week_no'] >= data['week_no'].max() - test_size_weeks]\n",
    "\n",
    "data_train.head(2)"
   ]
  },
  {
   "cell_type": "markdown",
   "id": "3352a745",
   "metadata": {},
   "source": [
    "Создадим объект класса MainRecommender, в рамках которого производится необходимая префильтрация данных, позволяющая улучшить метрики."
   ]
  },
  {
   "cell_type": "code",
   "execution_count": 3,
   "id": "24b76315",
   "metadata": {},
   "outputs": [
    {
     "name": "stderr",
     "output_type": "stream",
     "text": [
      "/usr/local/lib/python3.9/site-packages/pandas/core/indexing.py:1817: SettingWithCopyWarning: \n",
      "A value is trying to be set on a copy of a slice from a DataFrame.\n",
      "Try using .loc[row_indexer,col_indexer] = value instead\n",
      "\n",
      "See the caveats in the documentation: https://pandas.pydata.org/pandas-docs/stable/user_guide/indexing.html#returning-a-view-versus-a-copy\n",
      "  self._setitem_single_column(loc, value, pi)\n",
      "WARNING:root:OpenBLAS detected. Its highly recommend to set the environment variable 'export OPENBLAS_NUM_THREADS=1' to disable its internal multithreading\n"
     ]
    },
    {
     "data": {
      "application/vnd.jupyter.widget-view+json": {
       "model_id": "bfe7f34d512c478ea8ede06613384af5",
       "version_major": 2,
       "version_minor": 0
      },
      "text/plain": [
       "  0%|          | 0/10 [00:00<?, ?it/s]"
      ]
     },
     "metadata": {},
     "output_type": "display_data"
    },
    {
     "data": {
      "application/vnd.jupyter.widget-view+json": {
       "model_id": "89f750495e834d97967b9e305c2f449c",
       "version_major": 2,
       "version_minor": 0
      },
      "text/plain": [
       "  0%|          | 0/5001 [00:00<?, ?it/s]"
      ]
     },
     "metadata": {},
     "output_type": "display_data"
    }
   ],
   "source": [
    "mr = MainRecommender(data=data_train)"
   ]
  },
  {
   "cell_type": "markdown",
   "id": "68816186",
   "metadata": {},
   "source": [
    "Посчитаем метрики для наших рекомендаций."
   ]
  },
  {
   "cell_type": "code",
   "execution_count": 4,
   "id": "0b3bcf43",
   "metadata": {},
   "outputs": [
    {
     "data": {
      "text/html": [
       "<div>\n",
       "<style scoped>\n",
       "    .dataframe tbody tr th:only-of-type {\n",
       "        vertical-align: middle;\n",
       "    }\n",
       "\n",
       "    .dataframe tbody tr th {\n",
       "        vertical-align: top;\n",
       "    }\n",
       "\n",
       "    .dataframe thead th {\n",
       "        text-align: right;\n",
       "    }\n",
       "</style>\n",
       "<table border=\"1\" class=\"dataframe\">\n",
       "  <thead>\n",
       "    <tr style=\"text-align: right;\">\n",
       "      <th></th>\n",
       "      <th>user_id</th>\n",
       "      <th>actual</th>\n",
       "    </tr>\n",
       "  </thead>\n",
       "  <tbody>\n",
       "    <tr>\n",
       "      <th>0</th>\n",
       "      <td>1</td>\n",
       "      <td>[879517, 934369, 1115576, 1124029, 5572301, 65...</td>\n",
       "    </tr>\n",
       "    <tr>\n",
       "      <th>1</th>\n",
       "      <td>3</td>\n",
       "      <td>[823704, 834117, 840244, 913785, 917816, 93870...</td>\n",
       "    </tr>\n",
       "    <tr>\n",
       "      <th>2</th>\n",
       "      <td>5</td>\n",
       "      <td>[913077, 1118028, 1386668]</td>\n",
       "    </tr>\n",
       "    <tr>\n",
       "      <th>3</th>\n",
       "      <td>6</td>\n",
       "      <td>[825541, 859676, 999318, 1055646, 1067606, 108...</td>\n",
       "    </tr>\n",
       "    <tr>\n",
       "      <th>4</th>\n",
       "      <td>7</td>\n",
       "      <td>[929248, 948622, 1013572, 1022003, 1049892, 10...</td>\n",
       "    </tr>\n",
       "  </tbody>\n",
       "</table>\n",
       "</div>"
      ],
      "text/plain": [
       "   user_id                                             actual\n",
       "0        1  [879517, 934369, 1115576, 1124029, 5572301, 65...\n",
       "1        3  [823704, 834117, 840244, 913785, 917816, 93870...\n",
       "2        5                         [913077, 1118028, 1386668]\n",
       "3        6  [825541, 859676, 999318, 1055646, 1067606, 108...\n",
       "4        7  [929248, 948622, 1013572, 1022003, 1049892, 10..."
      ]
     },
     "execution_count": 4,
     "metadata": {},
     "output_type": "execute_result"
    }
   ],
   "source": [
    "result = data_test.groupby('user_id')['item_id'].unique().reset_index()\n",
    "result.columns=['user_id', 'actual']\n",
    "result.head(5)"
   ]
  },
  {
   "cell_type": "code",
   "execution_count": 5,
   "id": "cc906077",
   "metadata": {},
   "outputs": [
    {
     "data": {
      "text/html": [
       "<div>\n",
       "<style scoped>\n",
       "    .dataframe tbody tr th:only-of-type {\n",
       "        vertical-align: middle;\n",
       "    }\n",
       "\n",
       "    .dataframe tbody tr th {\n",
       "        vertical-align: top;\n",
       "    }\n",
       "\n",
       "    .dataframe thead th {\n",
       "        text-align: right;\n",
       "    }\n",
       "</style>\n",
       "<table border=\"1\" class=\"dataframe\">\n",
       "  <thead>\n",
       "    <tr style=\"text-align: right;\">\n",
       "      <th></th>\n",
       "      <th>user_id</th>\n",
       "      <th>actual</th>\n",
       "      <th>als</th>\n",
       "    </tr>\n",
       "  </thead>\n",
       "  <tbody>\n",
       "    <tr>\n",
       "      <th>0</th>\n",
       "      <td>1</td>\n",
       "      <td>[879517, 934369, 1115576, 1124029, 5572301, 65...</td>\n",
       "      <td>[979707, 914190, 961554, 1082185, 995242]</td>\n",
       "    </tr>\n",
       "    <tr>\n",
       "      <th>1</th>\n",
       "      <td>3</td>\n",
       "      <td>[823704, 834117, 840244, 913785, 917816, 93870...</td>\n",
       "      <td>[908531, 910032, 5568378, 951590, 1053690]</td>\n",
       "    </tr>\n",
       "    <tr>\n",
       "      <th>2</th>\n",
       "      <td>5</td>\n",
       "      <td>[913077, 1118028, 1386668]</td>\n",
       "      <td>[916122, 874972, 1126899, 5568378, 961554]</td>\n",
       "    </tr>\n",
       "    <tr>\n",
       "      <th>3</th>\n",
       "      <td>6</td>\n",
       "      <td>[825541, 859676, 999318, 1055646, 1067606, 108...</td>\n",
       "      <td>[903325, 994928, 834484, 904360, 863447]</td>\n",
       "    </tr>\n",
       "    <tr>\n",
       "      <th>4</th>\n",
       "      <td>7</td>\n",
       "      <td>[929248, 948622, 1013572, 1022003, 1049892, 10...</td>\n",
       "      <td>[893018, 860776, 1127831, 1106523, 1082185]</td>\n",
       "    </tr>\n",
       "  </tbody>\n",
       "</table>\n",
       "</div>"
      ],
      "text/plain": [
       "   user_id                                             actual  \\\n",
       "0        1  [879517, 934369, 1115576, 1124029, 5572301, 65...   \n",
       "1        3  [823704, 834117, 840244, 913785, 917816, 93870...   \n",
       "2        5                         [913077, 1118028, 1386668]   \n",
       "3        6  [825541, 859676, 999318, 1055646, 1067606, 108...   \n",
       "4        7  [929248, 948622, 1013572, 1022003, 1049892, 10...   \n",
       "\n",
       "                                           als  \n",
       "0    [979707, 914190, 961554, 1082185, 995242]  \n",
       "1   [908531, 910032, 5568378, 951590, 1053690]  \n",
       "2   [916122, 874972, 1126899, 5568378, 961554]  \n",
       "3     [903325, 994928, 834484, 904360, 863447]  \n",
       "4  [893018, 860776, 1127831, 1106523, 1082185]  "
      ]
     },
     "execution_count": 5,
     "metadata": {},
     "output_type": "execute_result"
    }
   ],
   "source": [
    "result['als'] = result['user_id'].apply(lambda x: mr.get_model_recommendations(x))\n",
    "result.head()"
   ]
  },
  {
   "cell_type": "code",
   "execution_count": 6,
   "id": "bc860b29",
   "metadata": {},
   "outputs": [
    {
     "data": {
      "text/html": [
       "<div>\n",
       "<style scoped>\n",
       "    .dataframe tbody tr th:only-of-type {\n",
       "        vertical-align: middle;\n",
       "    }\n",
       "\n",
       "    .dataframe tbody tr th {\n",
       "        vertical-align: top;\n",
       "    }\n",
       "\n",
       "    .dataframe thead th {\n",
       "        text-align: right;\n",
       "    }\n",
       "</style>\n",
       "<table border=\"1\" class=\"dataframe\">\n",
       "  <thead>\n",
       "    <tr style=\"text-align: right;\">\n",
       "      <th></th>\n",
       "      <th>user_id</th>\n",
       "      <th>actual</th>\n",
       "      <th>als</th>\n",
       "      <th>own</th>\n",
       "    </tr>\n",
       "  </thead>\n",
       "  <tbody>\n",
       "    <tr>\n",
       "      <th>0</th>\n",
       "      <td>1</td>\n",
       "      <td>[879517, 934369, 1115576, 1124029, 5572301, 65...</td>\n",
       "      <td>[979707, 914190, 961554, 1082185, 995242]</td>\n",
       "      <td>[995242, 1082185, 1029743, 6534178, 1005186]</td>\n",
       "    </tr>\n",
       "    <tr>\n",
       "      <th>1</th>\n",
       "      <td>3</td>\n",
       "      <td>[823704, 834117, 840244, 913785, 917816, 93870...</td>\n",
       "      <td>[908531, 910032, 5568378, 951590, 1053690]</td>\n",
       "      <td>[1106523, 6534178, 1082185, 951590, 1133018]</td>\n",
       "    </tr>\n",
       "    <tr>\n",
       "      <th>2</th>\n",
       "      <td>5</td>\n",
       "      <td>[913077, 1118028, 1386668]</td>\n",
       "      <td>[916122, 874972, 1126899, 5568378, 961554]</td>\n",
       "      <td>[6534178, 1126899, 1029743, 1082185, 916122]</td>\n",
       "    </tr>\n",
       "    <tr>\n",
       "      <th>3</th>\n",
       "      <td>6</td>\n",
       "      <td>[825541, 859676, 999318, 1055646, 1067606, 108...</td>\n",
       "      <td>[903325, 994928, 834484, 904360, 863447]</td>\n",
       "      <td>[1082185, 6534178, 5569230, 1029743, 995242]</td>\n",
       "    </tr>\n",
       "    <tr>\n",
       "      <th>4</th>\n",
       "      <td>7</td>\n",
       "      <td>[929248, 948622, 1013572, 1022003, 1049892, 10...</td>\n",
       "      <td>[893018, 860776, 1127831, 1106523, 1082185]</td>\n",
       "      <td>[1082185, 6534178, 1106523, 1029743, 1133018]</td>\n",
       "    </tr>\n",
       "  </tbody>\n",
       "</table>\n",
       "</div>"
      ],
      "text/plain": [
       "   user_id                                             actual  \\\n",
       "0        1  [879517, 934369, 1115576, 1124029, 5572301, 65...   \n",
       "1        3  [823704, 834117, 840244, 913785, 917816, 93870...   \n",
       "2        5                         [913077, 1118028, 1386668]   \n",
       "3        6  [825541, 859676, 999318, 1055646, 1067606, 108...   \n",
       "4        7  [929248, 948622, 1013572, 1022003, 1049892, 10...   \n",
       "\n",
       "                                           als  \\\n",
       "0    [979707, 914190, 961554, 1082185, 995242]   \n",
       "1   [908531, 910032, 5568378, 951590, 1053690]   \n",
       "2   [916122, 874972, 1126899, 5568378, 961554]   \n",
       "3     [903325, 994928, 834484, 904360, 863447]   \n",
       "4  [893018, 860776, 1127831, 1106523, 1082185]   \n",
       "\n",
       "                                             own  \n",
       "0   [995242, 1082185, 1029743, 6534178, 1005186]  \n",
       "1   [1106523, 6534178, 1082185, 951590, 1133018]  \n",
       "2   [6534178, 1126899, 1029743, 1082185, 916122]  \n",
       "3   [1082185, 6534178, 5569230, 1029743, 995242]  \n",
       "4  [1082185, 6534178, 1106523, 1029743, 1133018]  "
      ]
     },
     "execution_count": 6,
     "metadata": {},
     "output_type": "execute_result"
    }
   ],
   "source": [
    "result['own'] = result['user_id'].apply(lambda x: mr.get_own_recommendations(x))\n",
    "result.head()"
   ]
  },
  {
   "cell_type": "code",
   "execution_count": 7,
   "id": "5be5e221",
   "metadata": {},
   "outputs": [
    {
     "name": "stdout",
     "output_type": "stream",
     "text": [
      "1.0:actual\n",
      "0.227:als\n",
      "0.2815:own\n"
     ]
    }
   ],
   "source": [
    "for name_col in result.columns[1:]:\n",
    "    print(f\"{round(result.apply(lambda row: precision_at_k(row[name_col], row['actual']), axis=1).mean(),4)}:{name_col}\")"
   ]
  },
  {
   "cell_type": "markdown",
   "id": "6a84650e",
   "metadata": {},
   "source": [
    "Рассчитаем рекомендации на основе похожих товаров и юзеров."
   ]
  },
  {
   "cell_type": "code",
   "execution_count": 8,
   "id": "fd4cfb16",
   "metadata": {},
   "outputs": [
    {
     "data": {
      "text/html": [
       "<div>\n",
       "<style scoped>\n",
       "    .dataframe tbody tr th:only-of-type {\n",
       "        vertical-align: middle;\n",
       "    }\n",
       "\n",
       "    .dataframe tbody tr th {\n",
       "        vertical-align: top;\n",
       "    }\n",
       "\n",
       "    .dataframe thead th {\n",
       "        text-align: right;\n",
       "    }\n",
       "</style>\n",
       "<table border=\"1\" class=\"dataframe\">\n",
       "  <thead>\n",
       "    <tr style=\"text-align: right;\">\n",
       "      <th></th>\n",
       "      <th>user_id</th>\n",
       "      <th>actual</th>\n",
       "      <th>als</th>\n",
       "      <th>own</th>\n",
       "      <th>als_similar_items</th>\n",
       "    </tr>\n",
       "  </thead>\n",
       "  <tbody>\n",
       "    <tr>\n",
       "      <th>0</th>\n",
       "      <td>1</td>\n",
       "      <td>[879517, 934369, 1115576, 1124029, 5572301, 65...</td>\n",
       "      <td>[979707, 914190, 961554, 1082185, 995242]</td>\n",
       "      <td>[995242, 1082185, 1029743, 6534178, 1005186]</td>\n",
       "      <td>[1033142, 1071939, 962568, 981760, 1029743]</td>\n",
       "    </tr>\n",
       "    <tr>\n",
       "      <th>1</th>\n",
       "      <td>3</td>\n",
       "      <td>[823704, 834117, 840244, 913785, 917816, 93870...</td>\n",
       "      <td>[908531, 910032, 5568378, 951590, 1053690]</td>\n",
       "      <td>[1106523, 6534178, 1082185, 951590, 1133018]</td>\n",
       "      <td>[983584, 1131438, 5569327, 883404, 916381]</td>\n",
       "    </tr>\n",
       "    <tr>\n",
       "      <th>2</th>\n",
       "      <td>5</td>\n",
       "      <td>[913077, 1118028, 1386668]</td>\n",
       "      <td>[916122, 874972, 1126899, 5568378, 961554]</td>\n",
       "      <td>[6534178, 1126899, 1029743, 1082185, 916122]</td>\n",
       "      <td>[985999, 12262778, 1058997, 5569327, 962568]</td>\n",
       "    </tr>\n",
       "    <tr>\n",
       "      <th>3</th>\n",
       "      <td>6</td>\n",
       "      <td>[825541, 859676, 999318, 1055646, 1067606, 108...</td>\n",
       "      <td>[903325, 994928, 834484, 904360, 863447]</td>\n",
       "      <td>[1082185, 6534178, 5569230, 1029743, 995242]</td>\n",
       "      <td>[1117514, 857849, 970030, 1055646, 948650]</td>\n",
       "    </tr>\n",
       "    <tr>\n",
       "      <th>4</th>\n",
       "      <td>7</td>\n",
       "      <td>[929248, 948622, 1013572, 1022003, 1049892, 10...</td>\n",
       "      <td>[893018, 860776, 1127831, 1106523, 1082185]</td>\n",
       "      <td>[1082185, 6534178, 1106523, 1029743, 1133018]</td>\n",
       "      <td>[1096036, 834484, 1024306, 1133018, 981760]</td>\n",
       "    </tr>\n",
       "  </tbody>\n",
       "</table>\n",
       "</div>"
      ],
      "text/plain": [
       "   user_id                                             actual  \\\n",
       "0        1  [879517, 934369, 1115576, 1124029, 5572301, 65...   \n",
       "1        3  [823704, 834117, 840244, 913785, 917816, 93870...   \n",
       "2        5                         [913077, 1118028, 1386668]   \n",
       "3        6  [825541, 859676, 999318, 1055646, 1067606, 108...   \n",
       "4        7  [929248, 948622, 1013572, 1022003, 1049892, 10...   \n",
       "\n",
       "                                           als  \\\n",
       "0    [979707, 914190, 961554, 1082185, 995242]   \n",
       "1   [908531, 910032, 5568378, 951590, 1053690]   \n",
       "2   [916122, 874972, 1126899, 5568378, 961554]   \n",
       "3     [903325, 994928, 834484, 904360, 863447]   \n",
       "4  [893018, 860776, 1127831, 1106523, 1082185]   \n",
       "\n",
       "                                             own  \\\n",
       "0   [995242, 1082185, 1029743, 6534178, 1005186]   \n",
       "1   [1106523, 6534178, 1082185, 951590, 1133018]   \n",
       "2   [6534178, 1126899, 1029743, 1082185, 916122]   \n",
       "3   [1082185, 6534178, 5569230, 1029743, 995242]   \n",
       "4  [1082185, 6534178, 1106523, 1029743, 1133018]   \n",
       "\n",
       "                              als_similar_items  \n",
       "0   [1033142, 1071939, 962568, 981760, 1029743]  \n",
       "1    [983584, 1131438, 5569327, 883404, 916381]  \n",
       "2  [985999, 12262778, 1058997, 5569327, 962568]  \n",
       "3    [1117514, 857849, 970030, 1055646, 948650]  \n",
       "4   [1096036, 834484, 1024306, 1133018, 981760]  "
      ]
     },
     "execution_count": 8,
     "metadata": {},
     "output_type": "execute_result"
    }
   ],
   "source": [
    "result['als_similar_items'] = result['user_id'].apply(lambda x: mr.get_similar_items_recommendation(x))\n",
    "result.head()"
   ]
  },
  {
   "cell_type": "code",
   "execution_count": 9,
   "id": "38ca0671",
   "metadata": {},
   "outputs": [
    {
     "data": {
      "text/html": [
       "<div>\n",
       "<style scoped>\n",
       "    .dataframe tbody tr th:only-of-type {\n",
       "        vertical-align: middle;\n",
       "    }\n",
       "\n",
       "    .dataframe tbody tr th {\n",
       "        vertical-align: top;\n",
       "    }\n",
       "\n",
       "    .dataframe thead th {\n",
       "        text-align: right;\n",
       "    }\n",
       "</style>\n",
       "<table border=\"1\" class=\"dataframe\">\n",
       "  <thead>\n",
       "    <tr style=\"text-align: right;\">\n",
       "      <th></th>\n",
       "      <th>user_id</th>\n",
       "      <th>actual</th>\n",
       "      <th>als</th>\n",
       "      <th>own</th>\n",
       "      <th>als_similar_items</th>\n",
       "      <th>als_similar_users</th>\n",
       "    </tr>\n",
       "  </thead>\n",
       "  <tbody>\n",
       "    <tr>\n",
       "      <th>0</th>\n",
       "      <td>1</td>\n",
       "      <td>[879517, 934369, 1115576, 1124029, 5572301, 65...</td>\n",
       "      <td>[979707, 914190, 961554, 1082185, 995242]</td>\n",
       "      <td>[995242, 1082185, 1029743, 6534178, 1005186]</td>\n",
       "      <td>[1033142, 1071939, 962568, 981760, 1029743]</td>\n",
       "      <td>[1029743, 995242, 995242, 1005186, 961554]</td>\n",
       "    </tr>\n",
       "    <tr>\n",
       "      <th>1</th>\n",
       "      <td>3</td>\n",
       "      <td>[823704, 834117, 840244, 913785, 917816, 93870...</td>\n",
       "      <td>[908531, 910032, 5568378, 951590, 1053690]</td>\n",
       "      <td>[1106523, 6534178, 1082185, 951590, 1133018]</td>\n",
       "      <td>[983584, 1131438, 5569327, 883404, 916381]</td>\n",
       "      <td>[916122, 1133018, 5569230, 995242, 1082185]</td>\n",
       "    </tr>\n",
       "    <tr>\n",
       "      <th>2</th>\n",
       "      <td>5</td>\n",
       "      <td>[913077, 1118028, 1386668]</td>\n",
       "      <td>[916122, 874972, 1126899, 5568378, 961554]</td>\n",
       "      <td>[6534178, 1126899, 1029743, 1082185, 916122]</td>\n",
       "      <td>[985999, 12262778, 1058997, 5569327, 962568]</td>\n",
       "      <td>[1126899, 1068719, 916122, 1126899, 1126899]</td>\n",
       "    </tr>\n",
       "    <tr>\n",
       "      <th>3</th>\n",
       "      <td>6</td>\n",
       "      <td>[825541, 859676, 999318, 1055646, 1067606, 108...</td>\n",
       "      <td>[903325, 994928, 834484, 904360, 863447]</td>\n",
       "      <td>[1082185, 6534178, 5569230, 1029743, 995242]</td>\n",
       "      <td>[1117514, 857849, 970030, 1055646, 948650]</td>\n",
       "      <td>[9526410, 1096036, 866211, 5569471, 994928]</td>\n",
       "    </tr>\n",
       "    <tr>\n",
       "      <th>4</th>\n",
       "      <td>7</td>\n",
       "      <td>[929248, 948622, 1013572, 1022003, 1049892, 10...</td>\n",
       "      <td>[893018, 860776, 1127831, 1106523, 1082185]</td>\n",
       "      <td>[1082185, 6534178, 1106523, 1029743, 1133018]</td>\n",
       "      <td>[1096036, 834484, 1024306, 1133018, 981760]</td>\n",
       "      <td>[854405, 1082185, 866211, 5568378, 866211]</td>\n",
       "    </tr>\n",
       "  </tbody>\n",
       "</table>\n",
       "</div>"
      ],
      "text/plain": [
       "   user_id                                             actual  \\\n",
       "0        1  [879517, 934369, 1115576, 1124029, 5572301, 65...   \n",
       "1        3  [823704, 834117, 840244, 913785, 917816, 93870...   \n",
       "2        5                         [913077, 1118028, 1386668]   \n",
       "3        6  [825541, 859676, 999318, 1055646, 1067606, 108...   \n",
       "4        7  [929248, 948622, 1013572, 1022003, 1049892, 10...   \n",
       "\n",
       "                                           als  \\\n",
       "0    [979707, 914190, 961554, 1082185, 995242]   \n",
       "1   [908531, 910032, 5568378, 951590, 1053690]   \n",
       "2   [916122, 874972, 1126899, 5568378, 961554]   \n",
       "3     [903325, 994928, 834484, 904360, 863447]   \n",
       "4  [893018, 860776, 1127831, 1106523, 1082185]   \n",
       "\n",
       "                                             own  \\\n",
       "0   [995242, 1082185, 1029743, 6534178, 1005186]   \n",
       "1   [1106523, 6534178, 1082185, 951590, 1133018]   \n",
       "2   [6534178, 1126899, 1029743, 1082185, 916122]   \n",
       "3   [1082185, 6534178, 5569230, 1029743, 995242]   \n",
       "4  [1082185, 6534178, 1106523, 1029743, 1133018]   \n",
       "\n",
       "                              als_similar_items  \\\n",
       "0   [1033142, 1071939, 962568, 981760, 1029743]   \n",
       "1    [983584, 1131438, 5569327, 883404, 916381]   \n",
       "2  [985999, 12262778, 1058997, 5569327, 962568]   \n",
       "3    [1117514, 857849, 970030, 1055646, 948650]   \n",
       "4   [1096036, 834484, 1024306, 1133018, 981760]   \n",
       "\n",
       "                              als_similar_users  \n",
       "0    [1029743, 995242, 995242, 1005186, 961554]  \n",
       "1   [916122, 1133018, 5569230, 995242, 1082185]  \n",
       "2  [1126899, 1068719, 916122, 1126899, 1126899]  \n",
       "3   [9526410, 1096036, 866211, 5569471, 994928]  \n",
       "4    [854405, 1082185, 866211, 5568378, 866211]  "
      ]
     },
     "execution_count": 9,
     "metadata": {},
     "output_type": "execute_result"
    }
   ],
   "source": [
    "result['als_similar_users'] = result['user_id'].apply(lambda x: mr.get_similar_users_recommendation(x))\n",
    "result.head()"
   ]
  },
  {
   "cell_type": "code",
   "execution_count": 10,
   "id": "c8180fdc",
   "metadata": {},
   "outputs": [
    {
     "name": "stdout",
     "output_type": "stream",
     "text": [
      "1.0:actual\n",
      "0.227:als\n",
      "0.2815:own\n",
      "0.1308:als_similar_items\n",
      "0.1424:als_similar_users\n"
     ]
    }
   ],
   "source": [
    "for name_col in result.columns[1:]:\n",
    "    print(f\"{round(result.apply(lambda row: precision_at_k(row[name_col], row['actual']), axis=1).mean(),4)}:{name_col}\")"
   ]
  },
  {
   "cell_type": "markdown",
   "id": "bd592076",
   "metadata": {},
   "source": [
    "Как видно для этих рекомендаций значения метрик оказались ниже."
   ]
  }
 ],
 "metadata": {
  "kernelspec": {
   "display_name": "Python 3 (ipykernel)",
   "language": "python",
   "name": "python3"
  },
  "language_info": {
   "codemirror_mode": {
    "name": "ipython",
    "version": 3
   },
   "file_extension": ".py",
   "mimetype": "text/x-python",
   "name": "python",
   "nbconvert_exporter": "python",
   "pygments_lexer": "ipython3",
   "version": "3.9.7"
  }
 },
 "nbformat": 4,
 "nbformat_minor": 5
}
